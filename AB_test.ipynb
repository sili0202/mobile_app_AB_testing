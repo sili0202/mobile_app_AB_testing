{
 "cells": [
  {
   "cell_type": "code",
   "execution_count": 1,
   "metadata": {},
   "outputs": [],
   "source": [
    "from scipy import stats\n",
    "from scipy.stats import chi2_contingency\n",
    "from statsmodels.stats.power import TTestIndPower\n",
    "from statsmodels.stats.anova import anova_lm\n",
    "import scipy.stats as st\n",
    "import statsmodels.formula.api as smf\n",
    "import datetime\n",
    "import matplotlib.pyplot as plt\n",
    "%matplotlib inline\n",
    "import numpy as np\n",
    "import pandas as pd\n",
    "import seaborn as sns"
   ]
  },
  {
   "cell_type": "code",
   "execution_count": 2,
   "metadata": {},
   "outputs": [
    {
     "data": {
      "text/html": [
       "<div>\n",
       "<style scoped>\n",
       "    .dataframe tbody tr th:only-of-type {\n",
       "        vertical-align: middle;\n",
       "    }\n",
       "\n",
       "    .dataframe tbody tr th {\n",
       "        vertical-align: top;\n",
       "    }\n",
       "\n",
       "    .dataframe thead th {\n",
       "        text-align: right;\n",
       "    }\n",
       "</style>\n",
       "<table border=\"1\" class=\"dataframe\">\n",
       "  <thead>\n",
       "    <tr style=\"text-align: right;\">\n",
       "      <th></th>\n",
       "      <th>random_user_id</th>\n",
       "      <th>user_first_touch_timestamp</th>\n",
       "      <th>key</th>\n",
       "      <th>category</th>\n",
       "      <th>operating_system</th>\n",
       "      <th>country</th>\n",
       "      <th>event_timestamp</th>\n",
       "      <th>experimentVariant</th>\n",
       "      <th>eventName</th>\n",
       "    </tr>\n",
       "  </thead>\n",
       "  <tbody>\n",
       "    <tr>\n",
       "      <th>0</th>\n",
       "      <td>17748</td>\n",
       "      <td>2019-08-25 22:59:00.363 UTC</td>\n",
       "      <td>firebase_exp_9</td>\n",
       "      <td>mobile</td>\n",
       "      <td>IOS</td>\n",
       "      <td>Japan</td>\n",
       "      <td>2019-08-25 22:59:50.406 UTC</td>\n",
       "      <td>Variant A</td>\n",
       "      <td>tutorial_step1</td>\n",
       "    </tr>\n",
       "    <tr>\n",
       "      <th>1</th>\n",
       "      <td>29382</td>\n",
       "      <td>2019-08-25 22:58:53.145 UTC</td>\n",
       "      <td>firebase_exp_9</td>\n",
       "      <td>mobile</td>\n",
       "      <td>IOS</td>\n",
       "      <td>Japan</td>\n",
       "      <td>2019-08-25 22:59:56.532 UTC</td>\n",
       "      <td>Variant A</td>\n",
       "      <td>tutorial_step1</td>\n",
       "    </tr>\n",
       "    <tr>\n",
       "      <th>2</th>\n",
       "      <td>7729</td>\n",
       "      <td>2019-08-25 18:01:12.702 UTC</td>\n",
       "      <td>firebase_exp_9</td>\n",
       "      <td>mobile</td>\n",
       "      <td>IOS</td>\n",
       "      <td>Saudi Arabia</td>\n",
       "      <td>2019-08-25 18:13:50.313 UTC</td>\n",
       "      <td>Control group</td>\n",
       "      <td>share</td>\n",
       "    </tr>\n",
       "    <tr>\n",
       "      <th>3</th>\n",
       "      <td>57750</td>\n",
       "      <td>2019-08-25 22:58:55.244 UTC</td>\n",
       "      <td>firebase_exp_9</td>\n",
       "      <td>mobile</td>\n",
       "      <td>IOS</td>\n",
       "      <td>Russia</td>\n",
       "      <td>2019-08-25 22:59:28.314 UTC</td>\n",
       "      <td>Variant A</td>\n",
       "      <td>carousel_next</td>\n",
       "    </tr>\n",
       "    <tr>\n",
       "      <th>4</th>\n",
       "      <td>57750</td>\n",
       "      <td>2019-08-25 22:58:55.244 UTC</td>\n",
       "      <td>firebase_exp_9</td>\n",
       "      <td>mobile</td>\n",
       "      <td>IOS</td>\n",
       "      <td>Russia</td>\n",
       "      <td>2019-08-25 22:59:34.647001 UTC</td>\n",
       "      <td>Variant A</td>\n",
       "      <td>carousel_next</td>\n",
       "    </tr>\n",
       "  </tbody>\n",
       "</table>\n",
       "</div>"
      ],
      "text/plain": [
       "   random_user_id   user_first_touch_timestamp             key category  \\\n",
       "0           17748  2019-08-25 22:59:00.363 UTC  firebase_exp_9   mobile   \n",
       "1           29382  2019-08-25 22:58:53.145 UTC  firebase_exp_9   mobile   \n",
       "2            7729  2019-08-25 18:01:12.702 UTC  firebase_exp_9   mobile   \n",
       "3           57750  2019-08-25 22:58:55.244 UTC  firebase_exp_9   mobile   \n",
       "4           57750  2019-08-25 22:58:55.244 UTC  firebase_exp_9   mobile   \n",
       "\n",
       "  operating_system       country                 event_timestamp  \\\n",
       "0              IOS         Japan     2019-08-25 22:59:50.406 UTC   \n",
       "1              IOS         Japan     2019-08-25 22:59:56.532 UTC   \n",
       "2              IOS  Saudi Arabia     2019-08-25 18:13:50.313 UTC   \n",
       "3              IOS        Russia     2019-08-25 22:59:28.314 UTC   \n",
       "4              IOS        Russia  2019-08-25 22:59:34.647001 UTC   \n",
       "\n",
       "  experimentVariant       eventName  \n",
       "0         Variant A  tutorial_step1  \n",
       "1         Variant A  tutorial_step1  \n",
       "2     Control group           share  \n",
       "3         Variant A   carousel_next  \n",
       "4         Variant A   carousel_next  "
      ]
     },
     "execution_count": 2,
     "metadata": {},
     "output_type": "execute_result"
    }
   ],
   "source": [
    "df = pd.read_csv('/Users/sili/Downloads/Data.csv')\n",
    "df.head()"
   ]
  },
  {
   "cell_type": "code",
   "execution_count": 3,
   "metadata": {},
   "outputs": [
    {
     "data": {
      "text/plain": [
       "74941"
      ]
     },
     "execution_count": 3,
     "metadata": {},
     "output_type": "execute_result"
    }
   ],
   "source": [
    "df.random_user_id.nunique()"
   ]
  },
  {
   "cell_type": "code",
   "execution_count": 4,
   "metadata": {},
   "outputs": [
    {
     "data": {
      "text/plain": [
       "experimentVariant\n",
       "Control group    37671\n",
       "Variant A        37360\n",
       "Name: random_user_id, dtype: int64"
      ]
     },
     "execution_count": 4,
     "metadata": {},
     "output_type": "execute_result"
    }
   ],
   "source": [
    "df.groupby('experimentVariant').nunique()['random_user_id']"
   ]
  },
  {
   "cell_type": "markdown",
   "metadata": {},
   "source": [
    "- Since the p-value is 0.23, we fail to reject the null hypothesis and conclude there is no evidence of SRM\n",
    "- However, it seems some users are in both control and variant groups"
   ]
  },
  {
   "cell_type": "code",
   "execution_count": 5,
   "metadata": {},
   "outputs": [],
   "source": [
    "# count the number of users are in both control and variant groups\n",
    "\n",
    "df['duplicates'] = df[df['experimentVariant']=='Variant A']['random_user_id'].isin(\n",
    "    df[df['experimentVariant']=='Control group']['random_user_id'])"
   ]
  },
  {
   "cell_type": "code",
   "execution_count": 6,
   "metadata": {},
   "outputs": [],
   "source": [
    "# remove those users as they interfere with the results of the test\n",
    "\n",
    "df = df[~df['random_user_id'].isin(df[df.duplicates==True]['random_user_id'])].copy() "
   ]
  },
  {
   "cell_type": "code",
   "execution_count": 7,
   "metadata": {},
   "outputs": [
    {
     "data": {
      "text/plain": [
       "74851"
      ]
     },
     "execution_count": 7,
     "metadata": {},
     "output_type": "execute_result"
    }
   ],
   "source": [
    "# count the number of legit users who entered the experiment\n",
    "\n",
    "df['random_user_id'].nunique()"
   ]
  },
  {
   "cell_type": "code",
   "execution_count": 8,
   "metadata": {},
   "outputs": [
    {
     "data": {
      "text/plain": [
       "experimentVariant\n",
       "Control group    37581\n",
       "Variant A        37270\n",
       "Name: random_user_id, dtype: int64"
      ]
     },
     "execution_count": 8,
     "metadata": {},
     "output_type": "execute_result"
    }
   ],
   "source": [
    "# count the number of legit users in the either control or variant group\n",
    "\n",
    "df.groupby('experimentVariant').nunique()['random_user_id']"
   ]
  },
  {
   "cell_type": "code",
   "execution_count": 9,
   "metadata": {},
   "outputs": [
    {
     "data": {
      "text/plain": [
       "{'directions',\n",
       " 'menu_settings',\n",
       " 'save_location',\n",
       " 'search',\n",
       " 'search_3wa',\n",
       " 'share',\n",
       " 'sign_up',\n",
       " 'tutorial_dismiss',\n",
       " 'tutorial_step1',\n",
       " 'tutorial_step4'}"
      ]
     },
     "execution_count": 9,
     "metadata": {},
     "output_type": "execute_result"
    }
   ],
   "source": [
    "# have a look at the event in control group\n",
    "\n",
    "set(df[df['experimentVariant']=='Control group']['eventName'])"
   ]
  },
  {
   "cell_type": "code",
   "execution_count": 10,
   "metadata": {},
   "outputs": [
    {
     "data": {
      "text/plain": [
       "{'carousel_next',\n",
       " 'directions',\n",
       " 'menu_settings',\n",
       " 'save_location',\n",
       " 'search',\n",
       " 'search_3wa',\n",
       " 'share',\n",
       " 'sign_up',\n",
       " 'tutorial_dismiss',\n",
       " 'tutorial_step1',\n",
       " 'tutorial_step4'}"
      ]
     },
     "execution_count": 10,
     "metadata": {},
     "output_type": "execute_result"
    }
   ],
   "source": [
    "# have a look at the event in variant group\n",
    "\n",
    "set(df[df['experimentVariant']=='Variant A']['eventName'])"
   ]
  },
  {
   "cell_type": "markdown",
   "metadata": {},
   "source": [
    "carousel_next as a new feature was introduced to the variant group"
   ]
  },
  {
   "cell_type": "code",
   "execution_count": 11,
   "metadata": {},
   "outputs": [],
   "source": [
    "# convert to date\n",
    "\n",
    "df['user_first_touch_timestamp'] = pd.to_datetime(df['user_first_touch_timestamp'])\n",
    "df['event_timestamp'] = pd.to_datetime(df['event_timestamp'])"
   ]
  },
  {
   "cell_type": "code",
   "execution_count": 12,
   "metadata": {},
   "outputs": [],
   "source": [
    "# calculate number of days after first touch\n",
    "\n",
    "df['days_after_first_touch'] = df['event_timestamp'] - df['user_first_touch_timestamp'] "
   ]
  },
  {
   "cell_type": "code",
   "execution_count": 13,
   "metadata": {},
   "outputs": [
    {
     "data": {
      "text/html": [
       "<div>\n",
       "<style scoped>\n",
       "    .dataframe tbody tr th:only-of-type {\n",
       "        vertical-align: middle;\n",
       "    }\n",
       "\n",
       "    .dataframe tbody tr th {\n",
       "        vertical-align: top;\n",
       "    }\n",
       "\n",
       "    .dataframe thead th {\n",
       "        text-align: right;\n",
       "    }\n",
       "</style>\n",
       "<table border=\"1\" class=\"dataframe\">\n",
       "  <thead>\n",
       "    <tr style=\"text-align: right;\">\n",
       "      <th></th>\n",
       "      <th>random_user_id</th>\n",
       "      <th>user_first_touch_timestamp</th>\n",
       "      <th>key</th>\n",
       "      <th>category</th>\n",
       "      <th>operating_system</th>\n",
       "      <th>country</th>\n",
       "      <th>event_timestamp</th>\n",
       "      <th>experimentVariant</th>\n",
       "      <th>eventName</th>\n",
       "      <th>duplicates</th>\n",
       "      <th>days_after_first_touch</th>\n",
       "    </tr>\n",
       "  </thead>\n",
       "  <tbody>\n",
       "    <tr>\n",
       "      <th>270970</th>\n",
       "      <td>1702</td>\n",
       "      <td>2019-08-26 01:30:02.960</td>\n",
       "      <td>firebase_exp_9</td>\n",
       "      <td>mobile</td>\n",
       "      <td>IOS</td>\n",
       "      <td>United States</td>\n",
       "      <td>2019-08-25 01:31:10.861000</td>\n",
       "      <td>Variant A</td>\n",
       "      <td>tutorial_step1</td>\n",
       "      <td>False</td>\n",
       "      <td>-1 days +00:01:07.901000</td>\n",
       "    </tr>\n",
       "    <tr>\n",
       "      <th>270971</th>\n",
       "      <td>1702</td>\n",
       "      <td>2019-08-26 01:30:02.960</td>\n",
       "      <td>firebase_exp_9</td>\n",
       "      <td>mobile</td>\n",
       "      <td>IOS</td>\n",
       "      <td>United States</td>\n",
       "      <td>2019-08-25 01:31:20.660000</td>\n",
       "      <td>Variant A</td>\n",
       "      <td>carousel_next</td>\n",
       "      <td>False</td>\n",
       "      <td>-1 days +00:01:17.700000</td>\n",
       "    </tr>\n",
       "    <tr>\n",
       "      <th>270973</th>\n",
       "      <td>1702</td>\n",
       "      <td>2019-08-26 01:30:02.960</td>\n",
       "      <td>firebase_exp_9</td>\n",
       "      <td>mobile</td>\n",
       "      <td>IOS</td>\n",
       "      <td>United States</td>\n",
       "      <td>2019-08-25 01:31:21.927001</td>\n",
       "      <td>Variant A</td>\n",
       "      <td>carousel_next</td>\n",
       "      <td>False</td>\n",
       "      <td>-1 days +00:01:18.967001</td>\n",
       "    </tr>\n",
       "    <tr>\n",
       "      <th>270974</th>\n",
       "      <td>1702</td>\n",
       "      <td>2019-08-26 01:30:02.960</td>\n",
       "      <td>firebase_exp_9</td>\n",
       "      <td>mobile</td>\n",
       "      <td>IOS</td>\n",
       "      <td>United States</td>\n",
       "      <td>2019-08-25 01:31:22.843002</td>\n",
       "      <td>Variant A</td>\n",
       "      <td>carousel_next</td>\n",
       "      <td>False</td>\n",
       "      <td>-1 days +00:01:19.883002</td>\n",
       "    </tr>\n",
       "    <tr>\n",
       "      <th>270975</th>\n",
       "      <td>1702</td>\n",
       "      <td>2019-08-26 01:30:02.960</td>\n",
       "      <td>firebase_exp_9</td>\n",
       "      <td>mobile</td>\n",
       "      <td>IOS</td>\n",
       "      <td>United States</td>\n",
       "      <td>2019-08-25 01:31:34.295006</td>\n",
       "      <td>Variant A</td>\n",
       "      <td>tutorial_dismiss</td>\n",
       "      <td>False</td>\n",
       "      <td>-1 days +00:01:31.335006</td>\n",
       "    </tr>\n",
       "    <tr>\n",
       "      <th>270977</th>\n",
       "      <td>1702</td>\n",
       "      <td>2019-08-26 01:30:02.960</td>\n",
       "      <td>firebase_exp_9</td>\n",
       "      <td>mobile</td>\n",
       "      <td>IOS</td>\n",
       "      <td>United States</td>\n",
       "      <td>2019-08-25 01:32:16.245000</td>\n",
       "      <td>Variant A</td>\n",
       "      <td>search</td>\n",
       "      <td>False</td>\n",
       "      <td>-1 days +00:02:13.285000</td>\n",
       "    </tr>\n",
       "    <tr>\n",
       "      <th>270978</th>\n",
       "      <td>1702</td>\n",
       "      <td>2019-08-26 01:30:02.960</td>\n",
       "      <td>firebase_exp_9</td>\n",
       "      <td>mobile</td>\n",
       "      <td>IOS</td>\n",
       "      <td>United States</td>\n",
       "      <td>2019-08-25 01:32:16.245001</td>\n",
       "      <td>Variant A</td>\n",
       "      <td>search_3wa</td>\n",
       "      <td>False</td>\n",
       "      <td>-1 days +00:02:13.285001</td>\n",
       "    </tr>\n",
       "  </tbody>\n",
       "</table>\n",
       "</div>"
      ],
      "text/plain": [
       "        random_user_id user_first_touch_timestamp             key category  \\\n",
       "270970            1702    2019-08-26 01:30:02.960  firebase_exp_9   mobile   \n",
       "270971            1702    2019-08-26 01:30:02.960  firebase_exp_9   mobile   \n",
       "270973            1702    2019-08-26 01:30:02.960  firebase_exp_9   mobile   \n",
       "270974            1702    2019-08-26 01:30:02.960  firebase_exp_9   mobile   \n",
       "270975            1702    2019-08-26 01:30:02.960  firebase_exp_9   mobile   \n",
       "270977            1702    2019-08-26 01:30:02.960  firebase_exp_9   mobile   \n",
       "270978            1702    2019-08-26 01:30:02.960  firebase_exp_9   mobile   \n",
       "\n",
       "       operating_system        country            event_timestamp  \\\n",
       "270970              IOS  United States 2019-08-25 01:31:10.861000   \n",
       "270971              IOS  United States 2019-08-25 01:31:20.660000   \n",
       "270973              IOS  United States 2019-08-25 01:31:21.927001   \n",
       "270974              IOS  United States 2019-08-25 01:31:22.843002   \n",
       "270975              IOS  United States 2019-08-25 01:31:34.295006   \n",
       "270977              IOS  United States 2019-08-25 01:32:16.245000   \n",
       "270978              IOS  United States 2019-08-25 01:32:16.245001   \n",
       "\n",
       "       experimentVariant         eventName duplicates   days_after_first_touch  \n",
       "270970         Variant A    tutorial_step1      False -1 days +00:01:07.901000  \n",
       "270971         Variant A     carousel_next      False -1 days +00:01:17.700000  \n",
       "270973         Variant A     carousel_next      False -1 days +00:01:18.967001  \n",
       "270974         Variant A     carousel_next      False -1 days +00:01:19.883002  \n",
       "270975         Variant A  tutorial_dismiss      False -1 days +00:01:31.335006  \n",
       "270977         Variant A            search      False -1 days +00:02:13.285000  \n",
       "270978         Variant A        search_3wa      False -1 days +00:02:13.285001  "
      ]
     },
     "execution_count": 13,
     "metadata": {},
     "output_type": "execute_result"
    }
   ],
   "source": [
    "df[df['days_after_first_touch']<datetime.timedelta(days=0)]"
   ]
  },
  {
   "cell_type": "code",
   "execution_count": 14,
   "metadata": {},
   "outputs": [],
   "source": [
    "# remove rows event_stamp is before user_first_touch_timestamp\n",
    "\n",
    "df = df[df['days_after_first_touch']>=datetime.timedelta(days=0)].copy() "
   ]
  },
  {
   "cell_type": "code",
   "execution_count": 15,
   "metadata": {},
   "outputs": [
    {
     "data": {
      "text/plain": [
       "345035"
      ]
     },
     "execution_count": 15,
     "metadata": {},
     "output_type": "execute_result"
    }
   ],
   "source": [
    "len(df)"
   ]
  },
  {
   "cell_type": "code",
   "execution_count": 16,
   "metadata": {},
   "outputs": [],
   "source": [
    "# generate three columns to see if users are still active (retained) after 1, 3, 7 days respectively\n",
    "\n",
    "df['1_day_retention'] = np.where(df['days_after_first_touch']>datetime.timedelta(days=1), 1, 0)\n",
    "df['3_day_retention'] = np.where(df['days_after_first_touch']>datetime.timedelta(days=3), 1, 0)\n",
    "df['7_day_retention'] = np.where(df['days_after_first_touch']>datetime.timedelta(days=7), 1, 0)"
   ]
  },
  {
   "cell_type": "code",
   "execution_count": 17,
   "metadata": {},
   "outputs": [],
   "source": [
    "# filter the dataframe to show the last time each user has logged into the App\n",
    "# now it's clear if a user is still active after 1, 3, 7 days respectively\n",
    "\n",
    "retention = df.sort_values(['random_user_id', 'user_first_touch_timestamp', 'event_timestamp'], \n",
    "            ascending=[True, True, False]).groupby('random_user_id').head(1)\n",
    "\n",
    "# or df.sort_values(['random_user_id', 'user_first_touch_timestamp', 'event_timestamp'], ascending=[True, True, False]).drop_duplicates(subset=['random_user_id'])"
   ]
  },
  {
   "cell_type": "code",
   "execution_count": 18,
   "metadata": {},
   "outputs": [
    {
     "data": {
      "text/plain": [
       "experimentVariant\n",
       "Control group    37581\n",
       "Variant A        37269\n",
       "Name: random_user_id, dtype: int64"
      ]
     },
     "execution_count": 18,
     "metadata": {},
     "output_type": "execute_result"
    }
   ],
   "source": [
    "# qualified unique users in control vs variant\n",
    "\n",
    "retention.groupby('experimentVariant').count()['random_user_id']"
   ]
  },
  {
   "cell_type": "code",
   "execution_count": 19,
   "metadata": {},
   "outputs": [
    {
     "name": "stdout",
     "output_type": "stream",
     "text": [
      "Ideal Sample Size: 156978.000\n"
     ]
    }
   ],
   "source": [
    "# parameters for power analysis \n",
    "# effect_size has to be positive\n",
    "effect = 0.01\n",
    "alpha = 0.05\n",
    "power = 0.8\n",
    "# perform power analysis \n",
    "analysis = TTestIndPower()\n",
    "result = analysis.solve_power(effect, power = power,nobs1= None, ratio = 1.0, alpha = alpha)\n",
    "print('Ideal Sample Size: %.3f' % round(result))"
   ]
  },
  {
   "cell_type": "markdown",
   "metadata": {},
   "source": [
    "# Chi Squared Test & T Test "
   ]
  },
  {
   "cell_type": "markdown",
   "metadata": {},
   "source": [
    "Karl Pearson’s famous chi-square contingency test is derived from z statistic, based on the Normal distribution (degree of freedom = 1). It's suitable in this case as there are 2 categorical variables - experimentVariant vs retain or not. Also, T test is approximates Z distribution when sample gets big. So both tests both are performed to access the statistical significance."
   ]
  },
  {
   "cell_type": "markdown",
   "metadata": {},
   "source": [
    "## 1 Day Retention"
   ]
  },
  {
   "cell_type": "code",
   "execution_count": 20,
   "metadata": {},
   "outputs": [
    {
     "data": {
      "text/plain": [
       "experimentVariant\n",
       "Control group    0.059817\n",
       "Variant A        0.060560\n",
       "Name: 1_day_retention, dtype: float64"
      ]
     },
     "execution_count": 20,
     "metadata": {},
     "output_type": "execute_result"
    }
   ],
   "source": [
    "retention.groupby('experimentVariant').mean()['1_day_retention']"
   ]
  },
  {
   "cell_type": "markdown",
   "metadata": {},
   "source": [
    "### T Test"
   ]
  },
  {
   "cell_type": "code",
   "execution_count": 21,
   "metadata": {},
   "outputs": [
    {
     "name": "stdout",
     "output_type": "stream",
     "text": [
      "Ttest_indResult(statistic=0.42691059943956944, pvalue=0.6694456729102755)\n"
     ]
    }
   ],
   "source": [
    "test_result = stats.ttest_ind(retention[retention['experimentVariant']=='Variant A']['1_day_retention'],\n",
    "                              retention[retention['experimentVariant']=='Control group']['1_day_retention'])\n",
    "print(test_result)"
   ]
  },
  {
   "cell_type": "markdown",
   "metadata": {},
   "source": [
    "### Chi Squared Test"
   ]
  },
  {
   "cell_type": "code",
   "execution_count": 22,
   "metadata": {},
   "outputs": [],
   "source": [
    "_, (a, c) = np.unique(retention[retention['experimentVariant']=='Control group']['1_day_retention'], return_counts=True)\n",
    "_, (b, d) = np.unique(retention[retention['experimentVariant']=='Variant A']['1_day_retention'], return_counts=True)\n",
    "\n",
    "df_chi_1 = pd.DataFrame(data=[[a, b], [c, d]], \n",
    "                 index=[\"not retained\", \"retained\"], \n",
    "                 columns=[\"A\", \"B\"])\n",
    "m = df_chi_1.values"
   ]
  },
  {
   "cell_type": "code",
   "execution_count": 23,
   "metadata": {},
   "outputs": [
    {
     "name": "stdout",
     "output_type": "stream",
     "text": [
      "- Pearson's chi-squared t-test:\n",
      "   - χ2 value: 0.182\n",
      "   - p-value: 0.6694406690887797\n"
     ]
    }
   ],
   "source": [
    "chi2_val, p_val = chi2_contingency(m, correction=False)[:2]\n",
    "\n",
    "print(\"- Pearson's chi-squared t-test:\")\n",
    "print(f\"   - χ2 value: {chi2_val:.3f}\")\n",
    "print(f\"   - p-value: {p_val:}\")"
   ]
  },
  {
   "cell_type": "markdown",
   "metadata": {},
   "source": [
    "## 3 Day Retention"
   ]
  },
  {
   "cell_type": "code",
   "execution_count": 24,
   "metadata": {},
   "outputs": [
    {
     "data": {
      "text/plain": [
       "experimentVariant\n",
       "Control group    0.029110\n",
       "Variant A        0.030427\n",
       "Name: 3_day_retention, dtype: float64"
      ]
     },
     "execution_count": 24,
     "metadata": {},
     "output_type": "execute_result"
    }
   ],
   "source": [
    "retention.groupby('experimentVariant').mean()['3_day_retention']"
   ]
  },
  {
   "cell_type": "markdown",
   "metadata": {},
   "source": [
    "### T Test"
   ]
  },
  {
   "cell_type": "code",
   "execution_count": 25,
   "metadata": {},
   "outputs": [
    {
     "name": "stdout",
     "output_type": "stream",
     "text": [
      "Ttest_indResult(statistic=1.0600791641627452, pvalue=0.2891120066972475)\n"
     ]
    }
   ],
   "source": [
    "test_result = stats.ttest_ind(retention[retention['experimentVariant']=='Variant A']['3_day_retention'],\n",
    "                              retention[retention['experimentVariant']=='Control group']['3_day_retention'])\n",
    "print(test_result)"
   ]
  },
  {
   "cell_type": "markdown",
   "metadata": {},
   "source": [
    "### Chi Squared Test"
   ]
  },
  {
   "cell_type": "code",
   "execution_count": 26,
   "metadata": {},
   "outputs": [],
   "source": [
    "_, (a, c) = np.unique(retention[retention['experimentVariant']=='Control group']['3_day_retention'], return_counts=True)\n",
    "_, (b, d) = np.unique(retention[retention['experimentVariant']=='Variant A']['3_day_retention'], return_counts=True)\n",
    "\n",
    "df_chi_3 = pd.DataFrame(data=[[a, b], [c, d]], \n",
    "                 index=[\"not retained\", \"retained\"], \n",
    "                 columns=[\"A\", \"B\"])\n",
    "m = df_chi_3.values"
   ]
  },
  {
   "cell_type": "code",
   "execution_count": 27,
   "metadata": {},
   "outputs": [
    {
     "name": "stdout",
     "output_type": "stream",
     "text": [
      "- Pearson's chi-squared t-test:\n",
      "   - χ2 value: 1.124\n",
      "   - p-value: 0.2891057633157396\n"
     ]
    }
   ],
   "source": [
    "chi2_val, p_val = chi2_contingency(m, correction=False)[:2]\n",
    "\n",
    "print(\"- Pearson's chi-squared t-test:\")\n",
    "print(f\"   - χ2 value: {chi2_val:.3f}\")\n",
    "print(f\"   - p-value: {p_val:}\")"
   ]
  },
  {
   "cell_type": "markdown",
   "metadata": {},
   "source": [
    "## 7 Day Retention"
   ]
  },
  {
   "cell_type": "code",
   "execution_count": 28,
   "metadata": {},
   "outputs": [
    {
     "data": {
      "text/plain": [
       "experimentVariant\n",
       "Control group    0.008142\n",
       "Variant A        0.009633\n",
       "Name: 7_day_retention, dtype: float64"
      ]
     },
     "execution_count": 28,
     "metadata": {},
     "output_type": "execute_result"
    }
   ],
   "source": [
    "retention.groupby('experimentVariant').mean()['7_day_retention']"
   ]
  },
  {
   "cell_type": "markdown",
   "metadata": {},
   "source": [
    "### T Test"
   ]
  },
  {
   "cell_type": "code",
   "execution_count": 29,
   "metadata": {},
   "outputs": [
    {
     "name": "stdout",
     "output_type": "stream",
     "text": [
      "Ttest_indResult(statistic=2.1724734305137527, pvalue=0.02982309890774258)\n"
     ]
    }
   ],
   "source": [
    "test_result = stats.ttest_ind(retention[retention['experimentVariant']=='Variant A']['7_day_retention'],\n",
    "                              retention[retention['experimentVariant']=='Control group']['7_day_retention'])\n",
    "print(test_result)"
   ]
  },
  {
   "cell_type": "code",
   "execution_count": 30,
   "metadata": {},
   "outputs": [
    {
     "data": {
      "text/plain": [
       "0.0014902581948923414"
      ]
     },
     "execution_count": 30,
     "metadata": {},
     "output_type": "execute_result"
    }
   ],
   "source": [
    "# effect size\n",
    "retention[retention['experimentVariant']=='Variant A']['7_day_retention'].mean() - retention[retention['experimentVariant']=='Control group']['7_day_retention'].mean()"
   ]
  },
  {
   "cell_type": "code",
   "execution_count": 31,
   "metadata": {
    "scrolled": true
   },
   "outputs": [
    {
     "data": {
      "text/plain": [
       "experimentVariant\n",
       "Control group    306\n",
       "Variant A        359\n",
       "Name: 7_day_retention, dtype: int64"
      ]
     },
     "execution_count": 31,
     "metadata": {},
     "output_type": "execute_result"
    }
   ],
   "source": [
    "retention.groupby('experimentVariant').sum()['7_day_retention']"
   ]
  },
  {
   "cell_type": "markdown",
   "metadata": {},
   "source": [
    "### Chi Squared Test"
   ]
  },
  {
   "cell_type": "code",
   "execution_count": 32,
   "metadata": {},
   "outputs": [
    {
     "name": "stdout",
     "output_type": "stream",
     "text": [
      "- Pearson's chi-squared t-test:\n",
      "   - χ2 value: 4.719\n",
      "   - p-value: 0.02982294554487561\n"
     ]
    }
   ],
   "source": [
    "_, (a, c) = np.unique(retention[retention['experimentVariant']=='Control group']['7_day_retention'], return_counts=True)\n",
    "_, (b, d) = np.unique(retention[retention['experimentVariant']=='Variant A']['7_day_retention'], return_counts=True)\n",
    "\n",
    "df_chi_7 = pd.DataFrame(data=[[a, b], [c, d]], \n",
    "                 index=[\"not retained\", \"retained\"], \n",
    "                 columns=[\"A\", \"B\"])\n",
    "m = df_chi_7.values\n",
    "\n",
    "chi2_val, p_val = chi2_contingency(m, correction=False)[:2]\n",
    "\n",
    "print(\"- Pearson's chi-squared t-test:\")\n",
    "print(f\"   - χ2 value: {chi2_val:.3f}\")\n",
    "print(f\"   - p-value: {p_val:}\")"
   ]
  },
  {
   "cell_type": "markdown",
   "metadata": {},
   "source": [
    "### Confidence Internval"
   ]
  },
  {
   "cell_type": "code",
   "execution_count": 33,
   "metadata": {},
   "outputs": [],
   "source": [
    "# create two series to calculate confidence interval later\n",
    "control_series = retention[retention['experimentVariant']=='Control group']['7_day_retention']\n",
    "variant_series = retention[retention['experimentVariant']=='Variant A']['7_day_retention']"
   ]
  },
  {
   "cell_type": "code",
   "execution_count": 34,
   "metadata": {},
   "outputs": [
    {
     "name": "stdout",
     "output_type": "stream",
     "text": [
      "control retention rate confidence interval\n"
     ]
    },
    {
     "data": {
      "text/plain": [
       "(0.007233786936763427, 0.00905103784171506)"
      ]
     },
     "execution_count": 34,
     "metadata": {},
     "output_type": "execute_result"
    }
   ],
   "source": [
    "# calculate confidence interval for retention rate of control group\n",
    "\n",
    "print('control retention rate confidence interval')\n",
    "st.t.interval(0.95, len(control_series)-1, loc=np.mean(control_series), scale=st.sem(control_series))"
   ]
  },
  {
   "cell_type": "code",
   "execution_count": 35,
   "metadata": {},
   "outputs": [
    {
     "name": "stdout",
     "output_type": "stream",
     "text": [
      "variant retention rate confidence interval\n"
     ]
    },
    {
     "data": {
      "text/plain": [
       "(0.008641004044984572, 0.010624337123278597)"
      ]
     },
     "execution_count": 35,
     "metadata": {},
     "output_type": "execute_result"
    }
   ],
   "source": [
    "# calculate confidence interval for retention rate of variant group\n",
    "\n",
    "print('variant retention rate confidence interval')\n",
    "st.t.interval(0.95, len(variant_series)-1, loc=np.mean(variant_series), scale=st.sem(variant_series))"
   ]
  },
  {
   "cell_type": "code",
   "execution_count": 36,
   "metadata": {},
   "outputs": [
    {
     "data": {
      "image/png": "[encoded data removed]",
      "text/plain": [
       "<Figure size 432x288 with 1 Axes>"
      ]
     },
     "metadata": {
      "needs_background": "light"
     },
     "output_type": "display_data"
    }
   ],
   "source": [
    "# plot confidence intervals of \n",
    "plt.plot(st.t.interval(0.95, len(control_series)-1, loc=np.mean(control_series), scale=st.sem(control_series)), (1.75,1.75), 'ro-',color='orange')\n",
    "plt.plot(st.t.interval(0.95, len(variant_series)-1, loc=np.mean(variant_series), scale=st.sem(variant_series)), (1.9,1.9), 'ro-',color='blue')\n",
    "plt.yticks((1,3), [])\n",
    "plt.legend(['control', 'variant'])\n",
    "plt.title('7-day Retention Rate');"
   ]
  },
  {
   "cell_type": "markdown",
   "metadata": {},
   "source": [
    "- The confidence interval of two groups are overlapping which means we don't have a definite winner even that the t test is significant nor can we measure the size of effect"
   ]
  },
  {
   "cell_type": "markdown",
   "metadata": {},
   "source": [
    "# Two-way ANOVA"
   ]
  },
  {
   "cell_type": "markdown",
   "metadata": {},
   "source": [
    "Wondering if mobile device has an impact so a two-way ANOVA is performed"
   ]
  },
  {
   "cell_type": "code",
   "execution_count": 37,
   "metadata": {},
   "outputs": [
    {
     "name": "stdout",
     "output_type": "stream",
     "text": [
      "                     sum_sq       df       F  PR(>F)\n",
      "experimentVariant    0.0417      1.0  4.7331  0.0296\n",
      "category             0.0078      1.0  0.8802  0.3482\n",
      "Residual           659.0425  74847.0     NaN     NaN\n"
     ]
    }
   ],
   "source": [
    "# interested in mobile device. Would that make a difference?\n",
    "\n",
    "retention['sevendayretention'] = retention['7_day_retention'] # update variable name\n",
    "\n",
    "model = smf.ols(formula='sevendayretention ~ experimentVariant + category', data=retention).fit()\n",
    "aov_table = anova_lm(model, typ=2)\n",
    "print(np.round(aov_table,4))"
   ]
  },
  {
   "cell_type": "markdown",
   "metadata": {},
   "source": [
    "- mobile device is not relevant in this case as it's not significant"
   ]
  },
  {
   "cell_type": "markdown",
   "metadata": {},
   "source": [
    "# Bootstrap"
   ]
  },
  {
   "cell_type": "markdown",
   "metadata": {},
   "source": [
    "As the experiment is not running for a long time and a moderate sample size is gathered. It would be helpful to understand if the experiment is reproduceable. Therefore, bootstrapping differences of control vs variant retention rate is used to test experiment validity"
   ]
  },
  {
   "cell_type": "markdown",
   "metadata": {},
   "source": [
    "## 1 Day Retention"
   ]
  },
  {
   "cell_type": "code",
   "execution_count": 38,
   "metadata": {},
   "outputs": [
    {
     "data": {
      "text/plain": [
       "0.0007422535570236893"
      ]
     },
     "execution_count": 38,
     "metadata": {},
     "output_type": "execute_result"
    }
   ],
   "source": [
    "# Display observed difference in retention rates\n",
    "\n",
    "obs_diff = retention[retention['experimentVariant']=='Variant A']['1_day_retention'].mean() - retention[retention['experimentVariant']=='Control group']['1_day_retention'].mean()\n",
    "obs_diff"
   ]
  },
  {
   "cell_type": "code",
   "execution_count": 39,
   "metadata": {},
   "outputs": [],
   "source": [
    "# Create sampling distribution for difference in retention rates with boostrapping\n",
    "\n",
    "diffs = []\n",
    "size = retention.shape[0]\n",
    "for _ in range(10000):\n",
    "    b_samp = retention.sample(size, replace=True)\n",
    "    control_df = b_samp.query('experimentVariant == \"Control group\"')\n",
    "    experiment_df = b_samp.query('experimentVariant == \"Variant A\"')\n",
    "    control_ctr = control_df['1_day_retention'].mean()\n",
    "    experiment_ctr = experiment_df['1_day_retention'].mean()\n",
    "    diffs.append(experiment_ctr - control_ctr)"
   ]
  },
  {
   "cell_type": "code",
   "execution_count": 40,
   "metadata": {},
   "outputs": [],
   "source": [
    "# convert to numpy array\n",
    "diffs = np.array(diffs)"
   ]
  },
  {
   "cell_type": "code",
   "execution_count": 41,
   "metadata": {},
   "outputs": [
    {
     "data": {
      "image/png": "[encoded data removed]",
      "text/plain": [
       "<Figure size 432x288 with 1 Axes>"
      ]
     },
     "metadata": {
      "needs_background": "light"
     },
     "output_type": "display_data"
    }
   ],
   "source": [
    "# plot distribution\n",
    "plt.hist(diffs);"
   ]
  },
  {
   "cell_type": "code",
   "execution_count": 42,
   "metadata": {},
   "outputs": [],
   "source": [
    "# create distribution under the null hypothesis\n",
    "null_vals = np.random.normal(0, diffs.std(), diffs.size)"
   ]
  },
  {
   "cell_type": "code",
   "execution_count": 43,
   "metadata": {},
   "outputs": [
    {
     "data": {
      "image/png": "[encoded data removed]",
      "text/plain": [
       "<Figure size 432x288 with 1 Axes>"
      ]
     },
     "metadata": {
      "needs_background": "light"
     },
     "output_type": "display_data"
    }
   ],
   "source": [
    "# plot null distribution\n",
    "plt.hist(null_vals);\n",
    "\n",
    "# plot line for observed statistic\n",
    "plt.axvline(obs_diff, c='red')\n",
    "plt.title('1-d retention Rate');"
   ]
  },
  {
   "cell_type": "code",
   "execution_count": 44,
   "metadata": {},
   "outputs": [
    {
     "data": {
      "text/plain": [
       "0.3329"
      ]
     },
     "execution_count": 44,
     "metadata": {},
     "output_type": "execute_result"
    }
   ],
   "source": [
    "# compute p value\n",
    "(null_vals > obs_diff).mean()"
   ]
  },
  {
   "cell_type": "markdown",
   "metadata": {},
   "source": [
    "## 3 Day Retention"
   ]
  },
  {
   "cell_type": "code",
   "execution_count": 45,
   "metadata": {},
   "outputs": [
    {
     "data": {
      "text/plain": [
       "0.2229"
      ]
     },
     "execution_count": 45,
     "metadata": {},
     "output_type": "execute_result"
    },
    {
     "data": {
      "image/png": "[encoded data removed]",
      "text/plain": [
       "<Figure size 432x288 with 1 Axes>"
      ]
     },
     "metadata": {
      "needs_background": "light"
     },
     "output_type": "display_data"
    }
   ],
   "source": [
    "# Calculate observed difference in retention rates\n",
    "\n",
    "obs_diff = retention[retention['experimentVariant']=='Variant A']['3_day_retention'].mean() - retention[retention['experimentVariant']=='Control group']['3_day_retention'].mean()\n",
    "\n",
    "# Create sampling distribution for difference in retention rates with boostrapping\n",
    "\n",
    "diffs = []\n",
    "size = retention.shape[0]\n",
    "for _ in range(10000):\n",
    "    b_samp = retention.sample(size, replace=True)\n",
    "    control_df = b_samp.query('experimentVariant == \"Control group\"')\n",
    "    experiment_df = b_samp.query('experimentVariant == \"Variant A\"')\n",
    "    control_ctr = control_df['1_day_retention'].mean()\n",
    "    experiment_ctr = experiment_df['1_day_retention'].mean()\n",
    "    diffs.append(experiment_ctr - control_ctr)\n",
    "\n",
    "# convert to numpy array\n",
    "diffs = np.array(diffs)\n",
    "    \n",
    "# create distribution under the null hypothesis\n",
    "null_vals = np.random.normal(0, diffs.std(), diffs.size)\n",
    "\n",
    "# plot null distribution\n",
    "plt.hist(null_vals);\n",
    "\n",
    "# plot line for observed statistic\n",
    "plt.axvline(obs_diff, c='red')\n",
    "plt.title('3-d retention Rate');\n",
    "\n",
    "# compute p value\n",
    "(null_vals > obs_diff).mean()"
   ]
  },
  {
   "cell_type": "markdown",
   "metadata": {},
   "source": [
    "# 7 Day Retention"
   ]
  },
  {
   "cell_type": "code",
   "execution_count": 46,
   "metadata": {},
   "outputs": [
    {
     "data": {
      "text/plain": [
       "0.1893"
      ]
     },
     "execution_count": 46,
     "metadata": {},
     "output_type": "execute_result"
    },
    {
     "data": {
      "image/png": "[encoded data removed]",
      "text/plain": [
       "<Figure size 432x288 with 1 Axes>"
      ]
     },
     "metadata": {
      "needs_background": "light"
     },
     "output_type": "display_data"
    }
   ],
   "source": [
    "# Calculate observed difference in retention rates\n",
    "\n",
    "obs_diff = retention[retention['experimentVariant']=='Variant A']['7_day_retention'].mean() - retention[retention['experimentVariant']=='Control group']['7_day_retention'].mean()\n",
    "\n",
    "# Create sampling distribution for difference in retention rates with boostrapping\n",
    "\n",
    "diffs = []\n",
    "size = retention.shape[0]\n",
    "for _ in range(10000):\n",
    "    b_samp = retention.sample(size, replace=True)\n",
    "    control_df = b_samp.query('experimentVariant == \"Control group\"')\n",
    "    experiment_df = b_samp.query('experimentVariant == \"Variant A\"')\n",
    "    control_ctr = control_df['1_day_retention'].mean()\n",
    "    experiment_ctr = experiment_df['1_day_retention'].mean()\n",
    "    diffs.append(experiment_ctr - control_ctr)\n",
    "\n",
    "# convert to numpy array\n",
    "diffs = np.array(diffs)\n",
    "\n",
    "# create distribution under the null hypothesis\n",
    "null_vals = np.random.normal(0, diffs.std(), diffs.size)\n",
    "\n",
    "# plot null distribution\n",
    "plt.hist(null_vals);\n",
    "\n",
    "# plot line for observed statistic\n",
    "plt.axvline(obs_diff, c='red')\n",
    "plt.title('7-d retention Rate');\n",
    "\n",
    "# compute p value\n",
    "(null_vals > obs_diff).mean()"
   ]
  },
  {
   "cell_type": "code",
   "execution_count": null,
   "metadata": {},
   "outputs": [],
   "source": []
  }
 ],
 "metadata": {
  "kernelspec": {
   "display_name": "Python 3",
   "language": "python",
   "name": "python3"
  },
  "language_info": {
   "codemirror_mode": {
    "name": "ipython",
    "version": 3
   },
   "file_extension": ".py",
   "mimetype": "text/x-python",
   "name": "python",
   "nbconvert_exporter": "python",
   "pygments_lexer": "ipython3",
   "version": "3.6.5"
  }
 },
 "nbformat": 4,
 "nbformat_minor": 4
}
